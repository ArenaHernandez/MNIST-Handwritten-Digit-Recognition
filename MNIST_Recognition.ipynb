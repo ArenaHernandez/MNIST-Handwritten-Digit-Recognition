{
  "nbformat": 4,
  "nbformat_minor": 0,
  "metadata": {
    "colab": {
      "provenance": []
    },
    "kernelspec": {
      "name": "python3",
      "display_name": "Python 3"
    },
    "language_info": {
      "name": "python"
    }
  },
  "cells": [
    {
      "cell_type": "markdown",
      "source": [
        "#Neural Network - MNIST\n",
        "https://github.com/ArenaHernandez/MNIST-Handwritten-Digit-Recognition.git"
      ],
      "metadata": {
        "id": "DXsXS8-rCq3q"
      }
    },
    {
      "cell_type": "code",
      "execution_count": 177,
      "metadata": {
        "id": "qEqCjh7mCie5"
      },
      "outputs": [],
      "source": [
        "import tensorflow as tf\n",
        "from tensorflow import keras\n",
        "import matplotlib.pyplot as plt\n",
        "%matplotlib inline\n",
        "import numpy as np\n"
      ]
    },
    {
      "cell_type": "code",
      "source": [
        "(X_train, y_train),(X_test,y_test) = keras.datasets.mnist.load_data()"
      ],
      "metadata": {
        "id": "hq3jWvP8Cn3R"
      },
      "execution_count": 192,
      "outputs": []
    },
    {
      "cell_type": "code",
      "source": [
        "len(X_train)"
      ],
      "metadata": {
        "colab": {
          "base_uri": "https://localhost:8080/"
        },
        "id": "3W_iR1EuCn7G",
        "outputId": "1a363025-ad8b-470c-b1b1-2bebac5d67ad"
      },
      "execution_count": 193,
      "outputs": [
        {
          "output_type": "execute_result",
          "data": {
            "text/plain": [
              "60000"
            ]
          },
          "metadata": {},
          "execution_count": 193
        }
      ]
    },
    {
      "cell_type": "code",
      "source": [
        "X_train.shape"
      ],
      "metadata": {
        "colab": {
          "base_uri": "https://localhost:8080/"
        },
        "id": "DQCVCBRSCn-G",
        "outputId": "01b96758-7797-45c0-909e-d50a83a9d2de"
      },
      "execution_count": 194,
      "outputs": [
        {
          "output_type": "execute_result",
          "data": {
            "text/plain": [
              "(60000, 28, 28)"
            ]
          },
          "metadata": {},
          "execution_count": 194
        }
      ]
    },
    {
      "cell_type": "code",
      "source": [
        "plt.matshow(X_train[0])"
      ],
      "metadata": {
        "colab": {
          "base_uri": "https://localhost:8080/",
          "height": 454
        },
        "id": "ffw9nVs3CoAk",
        "outputId": "ec962ff7-2e17-4fe4-f05a-9dd607e6a2d3"
      },
      "execution_count": 195,
      "outputs": [
        {
          "output_type": "execute_result",
          "data": {
            "text/plain": [
              "<matplotlib.image.AxesImage at 0x78e51350f130>"
            ]
          },
          "metadata": {},
          "execution_count": 195
        },
        {
          "output_type": "display_data",
          "data": {
            "text/plain": [
              "<Figure size 480x480 with 1 Axes>"
            ],
            "image/png": "[encoded data removed]"
          },
          "metadata": {}
        }
      ]
    },
    {
      "cell_type": "code",
      "source": [
        "y_train[0]"
      ],
      "metadata": {
        "colab": {
          "base_uri": "https://localhost:8080/"
        },
        "id": "kAztuz36CoG7",
        "outputId": "e5bb3b54-a2a1-415b-ba75-f52ad6a7f5a9"
      },
      "execution_count": 196,
      "outputs": [
        {
          "output_type": "execute_result",
          "data": {
            "text/plain": [
              "5"
            ]
          },
          "metadata": {},
          "execution_count": 196
        }
      ]
    },
    {
      "cell_type": "markdown",
      "source": [
        "##Scale the data"
      ],
      "metadata": {
        "id": "s7-66ki4Ic-1"
      }
    },
    {
      "cell_type": "code",
      "source": [
        "X_train = X_train / 255.0\n",
        "X_test = X_test / 255.0"
      ],
      "metadata": {
        "id": "zM3pPIuVApM5"
      },
      "execution_count": 197,
      "outputs": []
    },
    {
      "cell_type": "markdown",
      "source": [
        "##Flatten the dataset using the reshape function"
      ],
      "metadata": {
        "id": "fcqprPklEBe4"
      }
    },
    {
      "cell_type": "code",
      "source": [
        "X_train_flattened = X_train.reshape(len(X_train), 28*28)\n",
        "X_test_flattened = X_test.reshape(len(X_test), 28*28)"
      ],
      "metadata": {
        "id": "69NNudyWCoKF"
      },
      "execution_count": 198,
      "outputs": []
    },
    {
      "cell_type": "code",
      "source": [
        "print(X_train_flattened.shape)\n",
        "print(X_test_flattened.shape)"
      ],
      "metadata": {
        "colab": {
          "base_uri": "https://localhost:8080/"
        },
        "id": "rIcdq0bLCoNE",
        "outputId": "ade21090-32fe-4ab8-c93d-bdf33fe379c1"
      },
      "execution_count": 199,
      "outputs": [
        {
          "output_type": "stream",
          "name": "stdout",
          "text": [
            "(60000, 784)\n",
            "(10000, 784)\n"
          ]
        }
      ]
    },
    {
      "cell_type": "code",
      "source": [
        "X_train_flattened[0]"
      ],
      "metadata": {
        "colab": {
          "base_uri": "https://localhost:8080/"
        },
        "id": "hPDaRXpPCoVg",
        "outputId": "ff161f8b-9663-4bdd-c141-22da64471e48"
      },
      "execution_count": 201,
      "outputs": [
        {
          "output_type": "execute_result",
          "data": {
            "text/plain": [
              "array([0.        , 0.        , 0.        , 0.        , 0.        ,\n",
              "       0.        , 0.        , 0.        , 0.        , 0.        ,\n",
              "       0.        , 0.        , 0.        , 0.        , 0.        ,\n",
              "       0.        , 0.        , 0.        , 0.        , 0.        ,\n",
              "       0.        , 0.        , 0.        , 0.        , 0.        ,\n",
              "       0.        , 0.        , 0.        , 0.        , 0.        ,\n",
              "       0.        , 0.        , 0.        , 0.        , 0.        ,\n",
              "       0.        , 0.        , 0.        , 0.        , 0.        ,\n",
              "       0.        , 0.        , 0.        , 0.        , 0.        ,\n",
              "       0.        , 0.        , 0.        , 0.        , 0.        ,\n",
              "       0.        , 0.        , 0.        , 0.        , 0.        ,\n",
              "       0.        , 0.        , 0.        , 0.        , 0.        ,\n",
              "       0.        , 0.        , 0.        , 0.        , 0.        ,\n",
              "       0.        , 0.        , 0.        , 0.        , 0.        ,\n",
              "       0.        , 0.        , 0.        , 0.        , 0.        ,\n",
              "       0.        , 0.        , 0.        , 0.        , 0.        ,\n",
              "       0.        , 0.        , 0.        , 0.        , 0.        ,\n",
              "       0.        , 0.        , 0.        , 0.        , 0.        ,\n",
              "       0.        , 0.        , 0.        , 0.        , 0.        ,\n",
              "       0.        , 0.        , 0.        , 0.        , 0.        ,\n",
              "       0.        , 0.        , 0.        , 0.        , 0.        ,\n",
              "       0.        , 0.        , 0.        , 0.        , 0.        ,\n",
              "       0.        , 0.        , 0.        , 0.        , 0.        ,\n",
              "       0.        , 0.        , 0.        , 0.        , 0.        ,\n",
              "       0.        , 0.        , 0.        , 0.        , 0.        ,\n",
              "       0.        , 0.        , 0.        , 0.        , 0.        ,\n",
              "       0.        , 0.        , 0.        , 0.        , 0.        ,\n",
              "       0.        , 0.        , 0.        , 0.        , 0.        ,\n",
              "       0.        , 0.        , 0.        , 0.        , 0.        ,\n",
              "       0.        , 0.        , 0.        , 0.        , 0.        ,\n",
              "       0.        , 0.        , 0.01176471, 0.07058824, 0.07058824,\n",
              "       0.07058824, 0.49411765, 0.53333333, 0.68627451, 0.10196078,\n",
              "       0.65098039, 1.        , 0.96862745, 0.49803922, 0.        ,\n",
              "       0.        , 0.        , 0.        , 0.        , 0.        ,\n",
              "       0.        , 0.        , 0.        , 0.        , 0.        ,\n",
              "       0.        , 0.11764706, 0.14117647, 0.36862745, 0.60392157,\n",
              "       0.66666667, 0.99215686, 0.99215686, 0.99215686, 0.99215686,\n",
              "       0.99215686, 0.88235294, 0.6745098 , 0.99215686, 0.94901961,\n",
              "       0.76470588, 0.25098039, 0.        , 0.        , 0.        ,\n",
              "       0.        , 0.        , 0.        , 0.        , 0.        ,\n",
              "       0.        , 0.        , 0.        , 0.19215686, 0.93333333,\n",
              "       0.99215686, 0.99215686, 0.99215686, 0.99215686, 0.99215686,\n",
              "       0.99215686, 0.99215686, 0.99215686, 0.98431373, 0.36470588,\n",
              "       0.32156863, 0.32156863, 0.21960784, 0.15294118, 0.        ,\n",
              "       0.        , 0.        , 0.        , 0.        , 0.        ,\n",
              "       0.        , 0.        , 0.        , 0.        , 0.        ,\n",
              "       0.        , 0.07058824, 0.85882353, 0.99215686, 0.99215686,\n",
              "       0.99215686, 0.99215686, 0.99215686, 0.77647059, 0.71372549,\n",
              "       0.96862745, 0.94509804, 0.        , 0.        , 0.        ,\n",
              "       0.        , 0.        , 0.        , 0.        , 0.        ,\n",
              "       0.        , 0.        , 0.        , 0.        , 0.        ,\n",
              "       0.        , 0.        , 0.        , 0.        , 0.        ,\n",
              "       0.31372549, 0.61176471, 0.41960784, 0.99215686, 0.99215686,\n",
              "       0.80392157, 0.04313725, 0.        , 0.16862745, 0.60392157,\n",
              "       0.        , 0.        , 0.        , 0.        , 0.        ,\n",
              "       0.        , 0.        , 0.        , 0.        , 0.        ,\n",
              "       0.        , 0.        , 0.        , 0.        , 0.        ,\n",
              "       0.        , 0.        , 0.        , 0.        , 0.05490196,\n",
              "       0.00392157, 0.60392157, 0.99215686, 0.35294118, 0.        ,\n",
              "       0.        , 0.        , 0.        , 0.        , 0.        ,\n",
              "       0.        , 0.        , 0.        , 0.        , 0.        ,\n",
              "       0.        , 0.        , 0.        , 0.        , 0.        ,\n",
              "       0.        , 0.        , 0.        , 0.        , 0.        ,\n",
              "       0.        , 0.        , 0.        , 0.        , 0.54509804,\n",
              "       0.99215686, 0.74509804, 0.00784314, 0.        , 0.        ,\n",
              "       0.        , 0.        , 0.        , 0.        , 0.        ,\n",
              "       0.        , 0.        , 0.        , 0.        , 0.        ,\n",
              "       0.        , 0.        , 0.        , 0.        , 0.        ,\n",
              "       0.        , 0.        , 0.        , 0.        , 0.        ,\n",
              "       0.        , 0.        , 0.04313725, 0.74509804, 0.99215686,\n",
              "       0.2745098 , 0.        , 0.        , 0.        , 0.        ,\n",
              "       0.        , 0.        , 0.        , 0.        , 0.        ,\n",
              "       0.        , 0.        , 0.        , 0.        , 0.        ,\n",
              "       0.        , 0.        , 0.        , 0.        , 0.        ,\n",
              "       0.        , 0.        , 0.        , 0.        , 0.        ,\n",
              "       0.        , 0.1372549 , 0.94509804, 0.88235294, 0.62745098,\n",
              "       0.42352941, 0.00392157, 0.        , 0.        , 0.        ,\n",
              "       0.        , 0.        , 0.        , 0.        , 0.        ,\n",
              "       0.        , 0.        , 0.        , 0.        , 0.        ,\n",
              "       0.        , 0.        , 0.        , 0.        , 0.        ,\n",
              "       0.        , 0.        , 0.        , 0.        , 0.        ,\n",
              "       0.31764706, 0.94117647, 0.99215686, 0.99215686, 0.46666667,\n",
              "       0.09803922, 0.        , 0.        , 0.        , 0.        ,\n",
              "       0.        , 0.        , 0.        , 0.        , 0.        ,\n",
              "       0.        , 0.        , 0.        , 0.        , 0.        ,\n",
              "       0.        , 0.        , 0.        , 0.        , 0.        ,\n",
              "       0.        , 0.        , 0.        , 0.        , 0.17647059,\n",
              "       0.72941176, 0.99215686, 0.99215686, 0.58823529, 0.10588235,\n",
              "       0.        , 0.        , 0.        , 0.        , 0.        ,\n",
              "       0.        , 0.        , 0.        , 0.        , 0.        ,\n",
              "       0.        , 0.        , 0.        , 0.        , 0.        ,\n",
              "       0.        , 0.        , 0.        , 0.        , 0.        ,\n",
              "       0.        , 0.        , 0.        , 0.0627451 , 0.36470588,\n",
              "       0.98823529, 0.99215686, 0.73333333, 0.        , 0.        ,\n",
              "       0.        , 0.        , 0.        , 0.        , 0.        ,\n",
              "       0.        , 0.        , 0.        , 0.        , 0.        ,\n",
              "       0.        , 0.        , 0.        , 0.        , 0.        ,\n",
              "       0.        , 0.        , 0.        , 0.        , 0.        ,\n",
              "       0.        , 0.        , 0.        , 0.97647059, 0.99215686,\n",
              "       0.97647059, 0.25098039, 0.        , 0.        , 0.        ,\n",
              "       0.        , 0.        , 0.        , 0.        , 0.        ,\n",
              "       0.        , 0.        , 0.        , 0.        , 0.        ,\n",
              "       0.        , 0.        , 0.        , 0.        , 0.        ,\n",
              "       0.        , 0.        , 0.        , 0.18039216, 0.50980392,\n",
              "       0.71764706, 0.99215686, 0.99215686, 0.81176471, 0.00784314,\n",
              "       0.        , 0.        , 0.        , 0.        , 0.        ,\n",
              "       0.        , 0.        , 0.        , 0.        , 0.        ,\n",
              "       0.        , 0.        , 0.        , 0.        , 0.        ,\n",
              "       0.        , 0.        , 0.        , 0.        , 0.15294118,\n",
              "       0.58039216, 0.89803922, 0.99215686, 0.99215686, 0.99215686,\n",
              "       0.98039216, 0.71372549, 0.        , 0.        , 0.        ,\n",
              "       0.        , 0.        , 0.        , 0.        , 0.        ,\n",
              "       0.        , 0.        , 0.        , 0.        , 0.        ,\n",
              "       0.        , 0.        , 0.        , 0.        , 0.        ,\n",
              "       0.09411765, 0.44705882, 0.86666667, 0.99215686, 0.99215686,\n",
              "       0.99215686, 0.99215686, 0.78823529, 0.30588235, 0.        ,\n",
              "       0.        , 0.        , 0.        , 0.        , 0.        ,\n",
              "       0.        , 0.        , 0.        , 0.        , 0.        ,\n",
              "       0.        , 0.        , 0.        , 0.        , 0.        ,\n",
              "       0.        , 0.09019608, 0.25882353, 0.83529412, 0.99215686,\n",
              "       0.99215686, 0.99215686, 0.99215686, 0.77647059, 0.31764706,\n",
              "       0.00784314, 0.        , 0.        , 0.        , 0.        ,\n",
              "       0.        , 0.        , 0.        , 0.        , 0.        ,\n",
              "       0.        , 0.        , 0.        , 0.        , 0.        ,\n",
              "       0.        , 0.        , 0.07058824, 0.67058824, 0.85882353,\n",
              "       0.99215686, 0.99215686, 0.99215686, 0.99215686, 0.76470588,\n",
              "       0.31372549, 0.03529412, 0.        , 0.        , 0.        ,\n",
              "       0.        , 0.        , 0.        , 0.        , 0.        ,\n",
              "       0.        , 0.        , 0.        , 0.        , 0.        ,\n",
              "       0.        , 0.        , 0.        , 0.21568627, 0.6745098 ,\n",
              "       0.88627451, 0.99215686, 0.99215686, 0.99215686, 0.99215686,\n",
              "       0.95686275, 0.52156863, 0.04313725, 0.        , 0.        ,\n",
              "       0.        , 0.        , 0.        , 0.        , 0.        ,\n",
              "       0.        , 0.        , 0.        , 0.        , 0.        ,\n",
              "       0.        , 0.        , 0.        , 0.        , 0.        ,\n",
              "       0.        , 0.53333333, 0.99215686, 0.99215686, 0.99215686,\n",
              "       0.83137255, 0.52941176, 0.51764706, 0.0627451 , 0.        ,\n",
              "       0.        , 0.        , 0.        , 0.        , 0.        ,\n",
              "       0.        , 0.        , 0.        , 0.        , 0.        ,\n",
              "       0.        , 0.        , 0.        , 0.        , 0.        ,\n",
              "       0.        , 0.        , 0.        , 0.        , 0.        ,\n",
              "       0.        , 0.        , 0.        , 0.        , 0.        ,\n",
              "       0.        , 0.        , 0.        , 0.        , 0.        ,\n",
              "       0.        , 0.        , 0.        , 0.        , 0.        ,\n",
              "       0.        , 0.        , 0.        , 0.        , 0.        ,\n",
              "       0.        , 0.        , 0.        , 0.        , 0.        ,\n",
              "       0.        , 0.        , 0.        , 0.        , 0.        ,\n",
              "       0.        , 0.        , 0.        , 0.        , 0.        ,\n",
              "       0.        , 0.        , 0.        , 0.        , 0.        ,\n",
              "       0.        , 0.        , 0.        , 0.        , 0.        ,\n",
              "       0.        , 0.        , 0.        , 0.        , 0.        ,\n",
              "       0.        , 0.        , 0.        , 0.        , 0.        ,\n",
              "       0.        , 0.        , 0.        , 0.        , 0.        ,\n",
              "       0.        , 0.        , 0.        , 0.        , 0.        ,\n",
              "       0.        , 0.        , 0.        , 0.        , 0.        ,\n",
              "       0.        , 0.        , 0.        , 0.        , 0.        ,\n",
              "       0.        , 0.        , 0.        , 0.        ])"
            ]
          },
          "metadata": {},
          "execution_count": 201
        }
      ]
    },
    {
      "cell_type": "code",
      "source": [
        "model = keras.Sequential([\n",
        "    keras.layers.Dense(256, input_shape=(784,), activation='relu'),\n",
        "    keras.layers.Dropout(0.5),\n",
        "    keras.layers.Dense(128, activation='relu'),\n",
        "    keras.layers.Dense(128, activation='relu'),\n",
        "    keras.layers.BatchNormalization(),\n",
        "    keras.layers.Dense(10, activation='softmax')\n",
        "])\n",
        "\n",
        "model.compile(optimizer='adam',\n",
        "              loss='sparse_categorical_crossentropy',\n",
        "              metrics=['accuracy'])\n",
        "\n",
        "model.fit(X_train_flattened, y_train, epochs=50, validation_split=0.2, batch_size=128, verbose=1)"
      ],
      "metadata": {
        "id": "zCSon_eSLICD",
        "outputId": "5a124e81-e13d-4e22-bb92-ae411339fd64",
        "colab": {
          "base_uri": "https://localhost:8080/"
        }
      },
      "execution_count": 202,
      "outputs": [
        {
          "output_type": "stream",
          "name": "stdout",
          "text": [
            "Epoch 1/50\n",
            "375/375 [==============================] - 7s 14ms/step - loss: 0.4442 - accuracy: 0.8616 - val_loss: 0.1612 - val_accuracy: 0.9522\n",
            "Epoch 2/50\n",
            "375/375 [==============================] - 9s 25ms/step - loss: 0.2072 - accuracy: 0.9373 - val_loss: 0.1136 - val_accuracy: 0.9667\n",
            "Epoch 3/50\n",
            "375/375 [==============================] - 5s 12ms/step - loss: 0.1658 - accuracy: 0.9497 - val_loss: 0.1065 - val_accuracy: 0.9678\n",
            "Epoch 4/50\n",
            "375/375 [==============================] - 6s 15ms/step - loss: 0.1386 - accuracy: 0.9573 - val_loss: 0.0915 - val_accuracy: 0.9721\n",
            "Epoch 5/50\n",
            "375/375 [==============================] - 4s 12ms/step - loss: 0.1286 - accuracy: 0.9601 - val_loss: 0.0879 - val_accuracy: 0.9732\n",
            "Epoch 6/50\n",
            "375/375 [==============================] - 5s 15ms/step - loss: 0.1134 - accuracy: 0.9643 - val_loss: 0.0880 - val_accuracy: 0.9733\n",
            "Epoch 7/50\n",
            "375/375 [==============================] - 5s 12ms/step - loss: 0.1088 - accuracy: 0.9657 - val_loss: 0.0842 - val_accuracy: 0.9738\n",
            "Epoch 8/50\n",
            "375/375 [==============================] - 5s 12ms/step - loss: 0.0941 - accuracy: 0.9708 - val_loss: 0.0803 - val_accuracy: 0.9751\n",
            "Epoch 9/50\n",
            "375/375 [==============================] - 6s 15ms/step - loss: 0.0916 - accuracy: 0.9709 - val_loss: 0.0831 - val_accuracy: 0.9760\n",
            "Epoch 10/50\n",
            "375/375 [==============================] - 4s 12ms/step - loss: 0.0845 - accuracy: 0.9727 - val_loss: 0.0789 - val_accuracy: 0.9765\n",
            "Epoch 11/50\n",
            "375/375 [==============================] - 5s 12ms/step - loss: 0.0803 - accuracy: 0.9740 - val_loss: 0.0785 - val_accuracy: 0.9770\n",
            "Epoch 12/50\n",
            "375/375 [==============================] - 5s 14ms/step - loss: 0.0777 - accuracy: 0.9745 - val_loss: 0.0752 - val_accuracy: 0.9777\n",
            "Epoch 13/50\n",
            "375/375 [==============================] - 5s 12ms/step - loss: 0.0733 - accuracy: 0.9767 - val_loss: 0.0769 - val_accuracy: 0.9779\n",
            "Epoch 14/50\n",
            "375/375 [==============================] - 5s 14ms/step - loss: 0.0741 - accuracy: 0.9759 - val_loss: 0.0717 - val_accuracy: 0.9784\n",
            "Epoch 15/50\n",
            "375/375 [==============================] - 5s 13ms/step - loss: 0.0654 - accuracy: 0.9793 - val_loss: 0.0723 - val_accuracy: 0.9782\n",
            "Epoch 16/50\n",
            "375/375 [==============================] - 5s 12ms/step - loss: 0.0664 - accuracy: 0.9782 - val_loss: 0.0768 - val_accuracy: 0.9790\n",
            "Epoch 17/50\n",
            "375/375 [==============================] - 5s 15ms/step - loss: 0.0600 - accuracy: 0.9808 - val_loss: 0.0685 - val_accuracy: 0.9795\n",
            "Epoch 18/50\n",
            "375/375 [==============================] - 5s 12ms/step - loss: 0.0606 - accuracy: 0.9799 - val_loss: 0.0698 - val_accuracy: 0.9802\n",
            "Epoch 19/50\n",
            "375/375 [==============================] - 5s 12ms/step - loss: 0.0590 - accuracy: 0.9804 - val_loss: 0.0677 - val_accuracy: 0.9808\n",
            "Epoch 20/50\n",
            "375/375 [==============================] - 6s 15ms/step - loss: 0.0577 - accuracy: 0.9809 - val_loss: 0.0684 - val_accuracy: 0.9814\n",
            "Epoch 21/50\n",
            "375/375 [==============================] - 5s 12ms/step - loss: 0.0561 - accuracy: 0.9812 - val_loss: 0.0702 - val_accuracy: 0.9796\n",
            "Epoch 22/50\n",
            "375/375 [==============================] - 5s 13ms/step - loss: 0.0536 - accuracy: 0.9833 - val_loss: 0.0774 - val_accuracy: 0.9795\n",
            "Epoch 23/50\n",
            "375/375 [==============================] - 5s 13ms/step - loss: 0.0522 - accuracy: 0.9824 - val_loss: 0.0723 - val_accuracy: 0.9800\n",
            "Epoch 24/50\n",
            "375/375 [==============================] - 4s 11ms/step - loss: 0.0499 - accuracy: 0.9837 - val_loss: 0.0727 - val_accuracy: 0.9803\n",
            "Epoch 25/50\n",
            "375/375 [==============================] - 5s 14ms/step - loss: 0.0494 - accuracy: 0.9837 - val_loss: 0.0711 - val_accuracy: 0.9804\n",
            "Epoch 26/50\n",
            "375/375 [==============================] - 5s 12ms/step - loss: 0.0473 - accuracy: 0.9844 - val_loss: 0.0673 - val_accuracy: 0.9807\n",
            "Epoch 27/50\n",
            "375/375 [==============================] - 5s 12ms/step - loss: 0.0450 - accuracy: 0.9853 - val_loss: 0.0690 - val_accuracy: 0.9808\n",
            "Epoch 28/50\n",
            "375/375 [==============================] - 6s 15ms/step - loss: 0.0449 - accuracy: 0.9850 - val_loss: 0.0762 - val_accuracy: 0.9806\n",
            "Epoch 29/50\n",
            "375/375 [==============================] - 4s 11ms/step - loss: 0.0448 - accuracy: 0.9849 - val_loss: 0.0729 - val_accuracy: 0.9818\n",
            "Epoch 30/50\n",
            "375/375 [==============================] - 4s 12ms/step - loss: 0.0453 - accuracy: 0.9849 - val_loss: 0.0690 - val_accuracy: 0.9818\n",
            "Epoch 31/50\n",
            "375/375 [==============================] - 6s 15ms/step - loss: 0.0431 - accuracy: 0.9854 - val_loss: 0.0711 - val_accuracy: 0.9792\n",
            "Epoch 32/50\n",
            "375/375 [==============================] - 5s 12ms/step - loss: 0.0420 - accuracy: 0.9863 - val_loss: 0.0666 - val_accuracy: 0.9823\n",
            "Epoch 33/50\n",
            "375/375 [==============================] - 5s 14ms/step - loss: 0.0364 - accuracy: 0.9879 - val_loss: 0.0690 - val_accuracy: 0.9814\n",
            "Epoch 34/50\n",
            "375/375 [==============================] - 5s 13ms/step - loss: 0.0396 - accuracy: 0.9870 - val_loss: 0.0701 - val_accuracy: 0.9821\n",
            "Epoch 35/50\n",
            "375/375 [==============================] - 5s 12ms/step - loss: 0.0382 - accuracy: 0.9875 - val_loss: 0.0695 - val_accuracy: 0.9815\n",
            "Epoch 36/50\n",
            "375/375 [==============================] - 6s 15ms/step - loss: 0.0373 - accuracy: 0.9871 - val_loss: 0.0677 - val_accuracy: 0.9818\n",
            "Epoch 37/50\n",
            "375/375 [==============================] - 5s 12ms/step - loss: 0.0384 - accuracy: 0.9873 - val_loss: 0.0673 - val_accuracy: 0.9824\n",
            "Epoch 38/50\n",
            "375/375 [==============================] - 5s 12ms/step - loss: 0.0359 - accuracy: 0.9879 - val_loss: 0.0700 - val_accuracy: 0.9809\n",
            "Epoch 39/50\n",
            "375/375 [==============================] - 6s 16ms/step - loss: 0.0337 - accuracy: 0.9888 - val_loss: 0.0706 - val_accuracy: 0.9822\n",
            "Epoch 40/50\n",
            "375/375 [==============================] - 5s 12ms/step - loss: 0.0362 - accuracy: 0.9881 - val_loss: 0.0690 - val_accuracy: 0.9826\n",
            "Epoch 41/50\n",
            "375/375 [==============================] - 6s 15ms/step - loss: 0.0345 - accuracy: 0.9877 - val_loss: 0.0737 - val_accuracy: 0.9825\n",
            "Epoch 42/50\n",
            "375/375 [==============================] - 5s 12ms/step - loss: 0.0336 - accuracy: 0.9888 - val_loss: 0.0724 - val_accuracy: 0.9826\n",
            "Epoch 43/50\n",
            "375/375 [==============================] - 5s 12ms/step - loss: 0.0340 - accuracy: 0.9886 - val_loss: 0.0737 - val_accuracy: 0.9821\n",
            "Epoch 44/50\n",
            "375/375 [==============================] - 6s 15ms/step - loss: 0.0320 - accuracy: 0.9894 - val_loss: 0.0719 - val_accuracy: 0.9818\n",
            "Epoch 45/50\n",
            "375/375 [==============================] - 4s 12ms/step - loss: 0.0312 - accuracy: 0.9895 - val_loss: 0.0689 - val_accuracy: 0.9821\n",
            "Epoch 46/50\n",
            "375/375 [==============================] - 5s 14ms/step - loss: 0.0306 - accuracy: 0.9898 - val_loss: 0.0696 - val_accuracy: 0.9820\n",
            "Epoch 47/50\n",
            "375/375 [==============================] - 5s 13ms/step - loss: 0.0315 - accuracy: 0.9897 - val_loss: 0.0689 - val_accuracy: 0.9817\n",
            "Epoch 48/50\n",
            "375/375 [==============================] - 5s 12ms/step - loss: 0.0324 - accuracy: 0.9890 - val_loss: 0.0710 - val_accuracy: 0.9818\n",
            "Epoch 49/50\n",
            "375/375 [==============================] - 6s 15ms/step - loss: 0.0321 - accuracy: 0.9893 - val_loss: 0.0730 - val_accuracy: 0.9814\n",
            "Epoch 50/50\n",
            "375/375 [==============================] - 4s 11ms/step - loss: 0.0319 - accuracy: 0.9890 - val_loss: 0.0713 - val_accuracy: 0.9817\n"
          ]
        },
        {
          "output_type": "execute_result",
          "data": {
            "text/plain": [
              "<keras.src.callbacks.History at 0x78e51020b5e0>"
            ]
          },
          "metadata": {},
          "execution_count": 202
        }
      ]
    },
    {
      "cell_type": "code",
      "source": [
        "model.evaluate(X_test_flattened, y_test)"
      ],
      "metadata": {
        "id": "tF9IdmdDLLsl",
        "outputId": "358af952-c761-4f65-d17a-8802f63673b6",
        "colab": {
          "base_uri": "https://localhost:8080/"
        }
      },
      "execution_count": 203,
      "outputs": [
        {
          "output_type": "stream",
          "name": "stdout",
          "text": [
            "313/313 [==============================] - 2s 7ms/step - loss: 0.0681 - accuracy: 0.9830\n"
          ]
        },
        {
          "output_type": "execute_result",
          "data": {
            "text/plain": [
              "[0.06812811642885208, 0.9829999804496765]"
            ]
          },
          "metadata": {},
          "execution_count": 203
        }
      ]
    },
    {
      "cell_type": "code",
      "source": [
        "y_predicted = model.predict(X_test_flattened)\n",
        "print(y_predicted[10])\n",
        "print(np.argmax(y_predicted[0]))"
      ],
      "metadata": {
        "id": "EIMMcNEeLN7L",
        "outputId": "0b4428d4-857e-4905-8bfe-1ee2695e81b9",
        "colab": {
          "base_uri": "https://localhost:8080/"
        }
      },
      "execution_count": 204,
      "outputs": [
        {
          "output_type": "stream",
          "name": "stdout",
          "text": [
            "313/313 [==============================] - 1s 3ms/step\n",
            "[9.9999994e-01 1.0168410e-11 4.2610089e-09 4.1465536e-11 2.3230794e-11\n",
            " 1.7090282e-11 5.5588449e-09 5.9911121e-12 1.5960764e-11 4.6675253e-10]\n",
            "7\n"
          ]
        }
      ]
    },
    {
      "cell_type": "code",
      "source": [
        "y_predicted_labels= [np.argmax(i) for i in y_predicted]"
      ],
      "metadata": {
        "id": "jJZlmG1FLPms"
      },
      "execution_count": 205,
      "outputs": []
    },
    {
      "cell_type": "code",
      "source": [
        "cm = tf.math.confusion_matrix(labels=y_test,predictions=y_predicted_labels)\n",
        "plt.figure(figsize = (10,7))\n",
        "sn.heatmap(cm, annot=True, fmt='d')\n",
        "plt.xlabel('Predicted')\n",
        "plt.ylabel('Truth')"
      ],
      "metadata": {
        "id": "1zjx7G8uLRlk",
        "outputId": "1de6ae8d-2830-44a5-85c3-b58c2c1d9552",
        "colab": {
          "base_uri": "https://localhost:8080/",
          "height": 636
        }
      },
      "execution_count": 206,
      "outputs": [
        {
          "output_type": "execute_result",
          "data": {
            "text/plain": [
              "Text(95.72222222222221, 0.5, 'Truth')"
            ]
          },
          "metadata": {},
          "execution_count": 206
        },
        {
          "output_type": "display_data",
          "data": {
            "text/plain": [
              "<Figure size 1000x700 with 2 Axes>"
            ],
            "image/png": "[encoded data removed]"
          },
          "metadata": {}
        }
      ]
    }
  ]
}