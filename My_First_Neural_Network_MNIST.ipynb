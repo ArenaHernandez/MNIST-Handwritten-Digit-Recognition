{
  "nbformat": 4,
  "nbformat_minor": 0,
  "metadata": {
    "colab": {
      "provenance": [],
      "authorship_tag": "ABX9TyN0EbGPyJk+ZZFOrd1ouiQF",
      "include_colab_link": true
    },
    "kernelspec": {
      "name": "python3",
      "display_name": "Python 3"
    },
    "language_info": {
      "name": "python"
    }
  },
  "cells": [
    {
      "cell_type": "markdown",
      "metadata": {
        "id": "view-in-github",
        "colab_type": "text"
      },
      "source": [
        "<a href=\"https://colab.research.google.com/github/ArenaHernandez/MNIST-Handwritten-Digit-Recognition/blob/main/My_First_Neural_Network_MNIST.ipynb\" target=\"_parent\"><img src=\"https://colab.research.google.com/assets/colab-badge.svg\" alt=\"Open In Colab\"/></a>"
      ]
    },
    {
      "cell_type": "markdown",
      "source": [
        "#Neural Network - MNIST"
      ],
      "metadata": {
        "id": "DXsXS8-rCq3q"
      }
    },
    {
      "cell_type": "markdown",
      "source": [
        "# Importing Required Libraries\n",
        "\n",
        "This step imports the necessary libraries for the project:\n",
        "- `tensorflow` and `keras` for building and training neural network models.\n",
        "- `matplotlib.pyplot` for visualization.\n",
        "- `%matplotlib inline` to display Matplotlib plots directly within the notebook.\n",
        "- `numpy` for numerical operations.\n"
      ],
      "metadata": {
        "id": "vHJqK1ieWE-e"
      }
    },
    {
      "cell_type": "code",
      "execution_count": 2,
      "metadata": {
        "id": "qEqCjh7mCie5"
      },
      "outputs": [],
      "source": [
        "import tensorflow as tf\n",
        "from tensorflow import keras\n",
        "from tensorflow.keras.layers import Dense, Dropout, BatchNormalization\n",
        "from tensorflow.keras.models import Sequential\n",
        "from tensorflow.keras.optimizers import Adam\n",
        "from tensorflow.keras.callbacks import EarlyStopping, ReduceLROnPlateau\n",
        "import matplotlib.pyplot as plt\n",
        "%matplotlib inline\n",
        "import seaborn as sn\n",
        "import numpy as np\n"
      ]
    },
    {
      "cell_type": "markdown",
      "source": [
        "# Loading MNIST Dataset\n",
        "\n",
        "This step loads the MNIST dataset using Keras, a popular deep learning library. It retrieves both the training and testing data, along with their corresponding labels.\n"
      ],
      "metadata": {
        "id": "jcGkUO5AVUlq"
      }
    },
    {
      "cell_type": "code",
      "source": [
        "(X_train, y_train),(X_test,y_test) = keras.datasets.mnist.load_data()"
      ],
      "metadata": {
        "id": "hq3jWvP8Cn3R"
      },
      "execution_count": 37,
      "outputs": []
    },
    {
      "cell_type": "markdown",
      "source": [
        "# Length of Training Data\n",
        "\n",
        "This step calculates the length of the training data (`X_train`) using the Python `len()` function. It returns the total number of samples in the training dataset. This information is essential for understanding the size and scale of the training data, which is crucial for training machine learning models effectively.\n"
      ],
      "metadata": {
        "id": "9X-Gz1J8VrCK"
      }
    },
    {
      "cell_type": "code",
      "source": [
        "len(X_train)"
      ],
      "metadata": {
        "colab": {
          "base_uri": "https://localhost:8080/"
        },
        "id": "3W_iR1EuCn7G",
        "outputId": "66dab32a-bd89-4560-cd1e-48d1a373da58"
      },
      "execution_count": 38,
      "outputs": [
        {
          "output_type": "execute_result",
          "data": {
            "text/plain": [
              "60000"
            ]
          },
          "metadata": {},
          "execution_count": 38
        }
      ]
    },
    {
      "cell_type": "markdown",
      "source": [
        "# Shape of Training Data\n",
        "\n",
        "This step retrieves the shape of the training data (`X_train`) using the `.shape` attribute. It returns a tuple representing the dimensions of the data, typically in the format `(num_samples, num_features)`.\n"
      ],
      "metadata": {
        "id": "tQB7_wETVxRs"
      }
    },
    {
      "cell_type": "code",
      "source": [
        "X_train.shape"
      ],
      "metadata": {
        "colab": {
          "base_uri": "https://localhost:8080/"
        },
        "id": "DQCVCBRSCn-G",
        "outputId": "523d0909-f8b2-43ef-c5a0-1faf1c09295e"
      },
      "execution_count": 39,
      "outputs": [
        {
          "output_type": "execute_result",
          "data": {
            "text/plain": [
              "(60000, 28, 28)"
            ]
          },
          "metadata": {},
          "execution_count": 39
        }
      ]
    },
    {
      "cell_type": "markdown",
      "source": [
        "# Visualizing a Sample Image from Training Data\n",
        "\n",
        "This step visualizes a sample image from the training data (`X_train`) using Matplotlib's `matshow()` function. It displays the image as a matrix plot, allowing for a visual inspection of the handwritten digit.\n"
      ],
      "metadata": {
        "id": "yjUpNScuV2D_"
      }
    },
    {
      "cell_type": "code",
      "source": [
        "plt.matshow(X_train[110])"
      ],
      "metadata": {
        "colab": {
          "base_uri": "https://localhost:8080/",
          "height": 454
        },
        "id": "ffw9nVs3CoAk",
        "outputId": "ebe1b9ee-7544-4120-a461-f54750a1f7b4"
      },
      "execution_count": 47,
      "outputs": [
        {
          "output_type": "execute_result",
          "data": {
            "text/plain": [
              "<matplotlib.image.AxesImage at 0x78b51d9953f0>"
            ]
          },
          "metadata": {},
          "execution_count": 47
        },
        {
          "output_type": "display_data",
          "data": {
            "text/plain": [
              "<Figure size 480x480 with 1 Axes>"
            ],
            "image/png": "[encoded data removed]"
          },
          "metadata": {}
        }
      ]
    },
    {
      "cell_type": "markdown",
      "source": [
        "# First Label in Training Data\n",
        "\n",
        "This step retrieves the label of the first sample in the training data (`y_train[0]`). In the context of the MNIST dataset, this label represents the actual digit corresponding to the first image in the training dataset.\n"
      ],
      "metadata": {
        "id": "jpsMvSskWnf3"
      }
    },
    {
      "cell_type": "code",
      "source": [
        "y_train[110]"
      ],
      "metadata": {
        "colab": {
          "base_uri": "https://localhost:8080/"
        },
        "id": "kAztuz36CoG7",
        "outputId": "e6bce8cf-0b85-4440-f451-75e708024e81"
      },
      "execution_count": 48,
      "outputs": [
        {
          "output_type": "execute_result",
          "data": {
            "text/plain": [
              "9"
            ]
          },
          "metadata": {},
          "execution_count": 48
        }
      ]
    },
    {
      "cell_type": "markdown",
      "source": [
        "# Normalizing Pixel Values\n",
        "\n",
        "This step normalizes the pixel values of the training and testing data (`X_train` and `X_test`, respectively) by dividing them by 255.0. Normalization is a common preprocessing technique used in machine learning to scale numerical features to a range between 0 and 1.\n"
      ],
      "metadata": {
        "id": "s7-66ki4Ic-1"
      }
    },
    {
      "cell_type": "code",
      "source": [
        "X_train = X_train / 255.0\n",
        "X_test = X_test / 255.0"
      ],
      "metadata": {
        "id": "zM3pPIuVApM5"
      },
      "execution_count": 43,
      "outputs": []
    },
    {
      "cell_type": "markdown",
      "source": [
        "# Flattening Training and Testing Data\n",
        "\n",
        "This step reshapes the training and testing data (`X_train` and `X_test`, respectively) from 2D arrays representing images into 1D arrays. Each image, originally represented as a 28x28 matrix of pixel values, is flattened into a 1D array of length 784 (28 * 28).\n"
      ],
      "metadata": {
        "id": "iZ4DpHpkWtz_"
      }
    },
    {
      "cell_type": "code",
      "source": [
        "X_train_flattened = X_train.reshape(len(X_train), 28*28)\n",
        "X_test_flattened = X_test.reshape(len(X_test), 28*28)"
      ],
      "metadata": {
        "id": "69NNudyWCoKF"
      },
      "execution_count": 44,
      "outputs": []
    },
    {
      "cell_type": "markdown",
      "source": [
        "# Printing Shapes of Flattened Data\n",
        "\n",
        "This step prints the shapes of the flattened training and testing data arrays (`X_train_flattened` and `X_test_flattened`, respectively). The shapes indicate the dimensions of the arrays, providing information about the number of samples and the length of each flattened image array.\n"
      ],
      "metadata": {
        "id": "lfTUXKpfW_v5"
      }
    },
    {
      "cell_type": "code",
      "source": [
        "print(X_train_flattened.shape)\n",
        "print(X_test_flattened.shape)"
      ],
      "metadata": {
        "colab": {
          "base_uri": "https://localhost:8080/"
        },
        "id": "rIcdq0bLCoNE",
        "outputId": "1e32c8d0-eaeb-42f6-f6df-aacce6483e1e"
      },
      "execution_count": 45,
      "outputs": [
        {
          "output_type": "stream",
          "name": "stdout",
          "text": [
            "(60000, 784)\n",
            "(10000, 784)\n"
          ]
        }
      ]
    },
    {
      "cell_type": "markdown",
      "source": [
        "# Flattened Representation of the First Image in Training Data\n",
        "\n",
        "This step retrieves the flattened representation of the first image in the training data (`X_train_flattened[0]`). After flattening, each image, which was originally represented as a 28x28 matrix of pixel values, is transformed into a 1D array.\n"
      ],
      "metadata": {
        "id": "IQ7IbpbFdT0M"
      }
    },
    {
      "cell_type": "code",
      "source": [
        "X_train_flattened[0]"
      ],
      "metadata": {
        "colab": {
          "base_uri": "https://localhost:8080/"
        },
        "id": "hPDaRXpPCoVg",
        "outputId": "6761d845-3483-49ec-9afb-4c4406a83abe"
      },
      "execution_count": 46,
      "outputs": [
        {
          "output_type": "execute_result",
          "data": {
            "text/plain": [
              "array([0.        , 0.        , 0.        , 0.        , 0.        ,\n",
              "       0.        , 0.        , 0.        , 0.        , 0.        ,\n",
              "       0.        , 0.        , 0.        , 0.        , 0.        ,\n",
              "       0.        , 0.        , 0.        , 0.        , 0.        ,\n",
              "       0.        , 0.        , 0.        , 0.        , 0.        ,\n",
              "       0.        , 0.        , 0.        , 0.        , 0.        ,\n",
              "       0.        , 0.        , 0.        , 0.        , 0.        ,\n",
              "       0.        , 0.        , 0.        , 0.        , 0.        ,\n",
              "       0.        , 0.        , 0.        , 0.        , 0.        ,\n",
              "       0.        , 0.        , 0.        , 0.        , 0.        ,\n",
              "       0.        , 0.        , 0.        , 0.        , 0.        ,\n",
              "       0.        , 0.        , 0.        , 0.        , 0.        ,\n",
              "       0.        , 0.        , 0.        , 0.        , 0.        ,\n",
              "       0.        , 0.        , 0.        , 0.        , 0.        ,\n",
              "       0.        , 0.        , 0.        , 0.        , 0.        ,\n",
              "       0.        , 0.        , 0.        , 0.        , 0.        ,\n",
              "       0.        , 0.        , 0.        , 0.        , 0.        ,\n",
              "       0.        , 0.        , 0.        , 0.        , 0.        ,\n",
              "       0.        , 0.        , 0.        , 0.        , 0.        ,\n",
              "       0.        , 0.        , 0.        , 0.        , 0.        ,\n",
              "       0.        , 0.        , 0.        , 0.        , 0.        ,\n",
              "       0.        , 0.        , 0.        , 0.        , 0.        ,\n",
              "       0.        , 0.        , 0.        , 0.        , 0.        ,\n",
              "       0.        , 0.        , 0.        , 0.        , 0.        ,\n",
              "       0.        , 0.        , 0.        , 0.        , 0.        ,\n",
              "       0.        , 0.        , 0.        , 0.        , 0.        ,\n",
              "       0.        , 0.        , 0.        , 0.        , 0.        ,\n",
              "       0.        , 0.        , 0.        , 0.        , 0.        ,\n",
              "       0.        , 0.        , 0.        , 0.        , 0.        ,\n",
              "       0.        , 0.        , 0.        , 0.        , 0.        ,\n",
              "       0.        , 0.        , 0.01176471, 0.07058824, 0.07058824,\n",
              "       0.07058824, 0.49411765, 0.53333333, 0.68627451, 0.10196078,\n",
              "       0.65098039, 1.        , 0.96862745, 0.49803922, 0.        ,\n",
              "       0.        , 0.        , 0.        , 0.        , 0.        ,\n",
              "       0.        , 0.        , 0.        , 0.        , 0.        ,\n",
              "       0.        , 0.11764706, 0.14117647, 0.36862745, 0.60392157,\n",
              "       0.66666667, 0.99215686, 0.99215686, 0.99215686, 0.99215686,\n",
              "       0.99215686, 0.88235294, 0.6745098 , 0.99215686, 0.94901961,\n",
              "       0.76470588, 0.25098039, 0.        , 0.        , 0.        ,\n",
              "       0.        , 0.        , 0.        , 0.        , 0.        ,\n",
              "       0.        , 0.        , 0.        , 0.19215686, 0.93333333,\n",
              "       0.99215686, 0.99215686, 0.99215686, 0.99215686, 0.99215686,\n",
              "       0.99215686, 0.99215686, 0.99215686, 0.98431373, 0.36470588,\n",
              "       0.32156863, 0.32156863, 0.21960784, 0.15294118, 0.        ,\n",
              "       0.        , 0.        , 0.        , 0.        , 0.        ,\n",
              "       0.        , 0.        , 0.        , 0.        , 0.        ,\n",
              "       0.        , 0.07058824, 0.85882353, 0.99215686, 0.99215686,\n",
              "       0.99215686, 0.99215686, 0.99215686, 0.77647059, 0.71372549,\n",
              "       0.96862745, 0.94509804, 0.        , 0.        , 0.        ,\n",
              "       0.        , 0.        , 0.        , 0.        , 0.        ,\n",
              "       0.        , 0.        , 0.        , 0.        , 0.        ,\n",
              "       0.        , 0.        , 0.        , 0.        , 0.        ,\n",
              "       0.31372549, 0.61176471, 0.41960784, 0.99215686, 0.99215686,\n",
              "       0.80392157, 0.04313725, 0.        , 0.16862745, 0.60392157,\n",
              "       0.        , 0.        , 0.        , 0.        , 0.        ,\n",
              "       0.        , 0.        , 0.        , 0.        , 0.        ,\n",
              "       0.        , 0.        , 0.        , 0.        , 0.        ,\n",
              "       0.        , 0.        , 0.        , 0.        , 0.05490196,\n",
              "       0.00392157, 0.60392157, 0.99215686, 0.35294118, 0.        ,\n",
              "       0.        , 0.        , 0.        , 0.        , 0.        ,\n",
              "       0.        , 0.        , 0.        , 0.        , 0.        ,\n",
              "       0.        , 0.        , 0.        , 0.        , 0.        ,\n",
              "       0.        , 0.        , 0.        , 0.        , 0.        ,\n",
              "       0.        , 0.        , 0.        , 0.        , 0.54509804,\n",
              "       0.99215686, 0.74509804, 0.00784314, 0.        , 0.        ,\n",
              "       0.        , 0.        , 0.        , 0.        , 0.        ,\n",
              "       0.        , 0.        , 0.        , 0.        , 0.        ,\n",
              "       0.        , 0.        , 0.        , 0.        , 0.        ,\n",
              "       0.        , 0.        , 0.        , 0.        , 0.        ,\n",
              "       0.        , 0.        , 0.04313725, 0.74509804, 0.99215686,\n",
              "       0.2745098 , 0.        , 0.        , 0.        , 0.        ,\n",
              "       0.        , 0.        , 0.        , 0.        , 0.        ,\n",
              "       0.        , 0.        , 0.        , 0.        , 0.        ,\n",
              "       0.        , 0.        , 0.        , 0.        , 0.        ,\n",
              "       0.        , 0.        , 0.        , 0.        , 0.        ,\n",
              "       0.        , 0.1372549 , 0.94509804, 0.88235294, 0.62745098,\n",
              "       0.42352941, 0.00392157, 0.        , 0.        , 0.        ,\n",
              "       0.        , 0.        , 0.        , 0.        , 0.        ,\n",
              "       0.        , 0.        , 0.        , 0.        , 0.        ,\n",
              "       0.        , 0.        , 0.        , 0.        , 0.        ,\n",
              "       0.        , 0.        , 0.        , 0.        , 0.        ,\n",
              "       0.31764706, 0.94117647, 0.99215686, 0.99215686, 0.46666667,\n",
              "       0.09803922, 0.        , 0.        , 0.        , 0.        ,\n",
              "       0.        , 0.        , 0.        , 0.        , 0.        ,\n",
              "       0.        , 0.        , 0.        , 0.        , 0.        ,\n",
              "       0.        , 0.        , 0.        , 0.        , 0.        ,\n",
              "       0.        , 0.        , 0.        , 0.        , 0.17647059,\n",
              "       0.72941176, 0.99215686, 0.99215686, 0.58823529, 0.10588235,\n",
              "       0.        , 0.        , 0.        , 0.        , 0.        ,\n",
              "       0.        , 0.        , 0.        , 0.        , 0.        ,\n",
              "       0.        , 0.        , 0.        , 0.        , 0.        ,\n",
              "       0.        , 0.        , 0.        , 0.        , 0.        ,\n",
              "       0.        , 0.        , 0.        , 0.0627451 , 0.36470588,\n",
              "       0.98823529, 0.99215686, 0.73333333, 0.        , 0.        ,\n",
              "       0.        , 0.        , 0.        , 0.        , 0.        ,\n",
              "       0.        , 0.        , 0.        , 0.        , 0.        ,\n",
              "       0.        , 0.        , 0.        , 0.        , 0.        ,\n",
              "       0.        , 0.        , 0.        , 0.        , 0.        ,\n",
              "       0.        , 0.        , 0.        , 0.97647059, 0.99215686,\n",
              "       0.97647059, 0.25098039, 0.        , 0.        , 0.        ,\n",
              "       0.        , 0.        , 0.        , 0.        , 0.        ,\n",
              "       0.        , 0.        , 0.        , 0.        , 0.        ,\n",
              "       0.        , 0.        , 0.        , 0.        , 0.        ,\n",
              "       0.        , 0.        , 0.        , 0.18039216, 0.50980392,\n",
              "       0.71764706, 0.99215686, 0.99215686, 0.81176471, 0.00784314,\n",
              "       0.        , 0.        , 0.        , 0.        , 0.        ,\n",
              "       0.        , 0.        , 0.        , 0.        , 0.        ,\n",
              "       0.        , 0.        , 0.        , 0.        , 0.        ,\n",
              "       0.        , 0.        , 0.        , 0.        , 0.15294118,\n",
              "       0.58039216, 0.89803922, 0.99215686, 0.99215686, 0.99215686,\n",
              "       0.98039216, 0.71372549, 0.        , 0.        , 0.        ,\n",
              "       0.        , 0.        , 0.        , 0.        , 0.        ,\n",
              "       0.        , 0.        , 0.        , 0.        , 0.        ,\n",
              "       0.        , 0.        , 0.        , 0.        , 0.        ,\n",
              "       0.09411765, 0.44705882, 0.86666667, 0.99215686, 0.99215686,\n",
              "       0.99215686, 0.99215686, 0.78823529, 0.30588235, 0.        ,\n",
              "       0.        , 0.        , 0.        , 0.        , 0.        ,\n",
              "       0.        , 0.        , 0.        , 0.        , 0.        ,\n",
              "       0.        , 0.        , 0.        , 0.        , 0.        ,\n",
              "       0.        , 0.09019608, 0.25882353, 0.83529412, 0.99215686,\n",
              "       0.99215686, 0.99215686, 0.99215686, 0.77647059, 0.31764706,\n",
              "       0.00784314, 0.        , 0.        , 0.        , 0.        ,\n",
              "       0.        , 0.        , 0.        , 0.        , 0.        ,\n",
              "       0.        , 0.        , 0.        , 0.        , 0.        ,\n",
              "       0.        , 0.        , 0.07058824, 0.67058824, 0.85882353,\n",
              "       0.99215686, 0.99215686, 0.99215686, 0.99215686, 0.76470588,\n",
              "       0.31372549, 0.03529412, 0.        , 0.        , 0.        ,\n",
              "       0.        , 0.        , 0.        , 0.        , 0.        ,\n",
              "       0.        , 0.        , 0.        , 0.        , 0.        ,\n",
              "       0.        , 0.        , 0.        , 0.21568627, 0.6745098 ,\n",
              "       0.88627451, 0.99215686, 0.99215686, 0.99215686, 0.99215686,\n",
              "       0.95686275, 0.52156863, 0.04313725, 0.        , 0.        ,\n",
              "       0.        , 0.        , 0.        , 0.        , 0.        ,\n",
              "       0.        , 0.        , 0.        , 0.        , 0.        ,\n",
              "       0.        , 0.        , 0.        , 0.        , 0.        ,\n",
              "       0.        , 0.53333333, 0.99215686, 0.99215686, 0.99215686,\n",
              "       0.83137255, 0.52941176, 0.51764706, 0.0627451 , 0.        ,\n",
              "       0.        , 0.        , 0.        , 0.        , 0.        ,\n",
              "       0.        , 0.        , 0.        , 0.        , 0.        ,\n",
              "       0.        , 0.        , 0.        , 0.        , 0.        ,\n",
              "       0.        , 0.        , 0.        , 0.        , 0.        ,\n",
              "       0.        , 0.        , 0.        , 0.        , 0.        ,\n",
              "       0.        , 0.        , 0.        , 0.        , 0.        ,\n",
              "       0.        , 0.        , 0.        , 0.        , 0.        ,\n",
              "       0.        , 0.        , 0.        , 0.        , 0.        ,\n",
              "       0.        , 0.        , 0.        , 0.        , 0.        ,\n",
              "       0.        , 0.        , 0.        , 0.        , 0.        ,\n",
              "       0.        , 0.        , 0.        , 0.        , 0.        ,\n",
              "       0.        , 0.        , 0.        , 0.        , 0.        ,\n",
              "       0.        , 0.        , 0.        , 0.        , 0.        ,\n",
              "       0.        , 0.        , 0.        , 0.        , 0.        ,\n",
              "       0.        , 0.        , 0.        , 0.        , 0.        ,\n",
              "       0.        , 0.        , 0.        , 0.        , 0.        ,\n",
              "       0.        , 0.        , 0.        , 0.        , 0.        ,\n",
              "       0.        , 0.        , 0.        , 0.        , 0.        ,\n",
              "       0.        , 0.        , 0.        , 0.        , 0.        ,\n",
              "       0.        , 0.        , 0.        , 0.        ])"
            ]
          },
          "metadata": {},
          "execution_count": 46
        }
      ]
    },
    {
      "cell_type": "markdown",
      "source": [
        "-------------------------------\n"
      ],
      "metadata": {
        "id": "L6_q_2VLfhWq"
      }
    },
    {
      "cell_type": "markdown",
      "source": [
        "# First Neural Network Model"
      ],
      "metadata": {
        "id": "ZP7FfTTtfl-g"
      }
    },
    {
      "cell_type": "markdown",
      "source": [
        "## Training Neural Network Model 1\n",
        "\n",
        "This step involves training the first neural network model (`model1`) on the MNIST dataset. The model architecture consists of an input layer with 784 input features, one hidden layer with 256 neurons activated by ReLU, and an output layer with 10 neurons activated by softmax for multi-class classification.\n"
      ],
      "metadata": {
        "id": "5VDgeYKLuJMQ"
      }
    },
    {
      "cell_type": "code",
      "source": [
        "model1 = Sequential([\n",
        "    Dense(256, input_shape=(784,), activation='relu'),\n",
        "    Dense(10, activation='softmax')\n",
        "])\n",
        "model1.compile(optimizer='adam',\n",
        "              loss='sparse_categorical_crossentropy',\n",
        "              metrics=['accuracy'])\n",
        "\n",
        "model1.fit(X_train_flattened, y_train, epochs=10)\n"
      ],
      "metadata": {
        "colab": {
          "base_uri": "https://localhost:8080/"
        },
        "id": "mk7LK5Ibfl1Y",
        "outputId": "3c9cf201-1a12-42fa-8dd7-22e6d52305dd"
      },
      "execution_count": 49,
      "outputs": [
        {
          "output_type": "stream",
          "name": "stdout",
          "text": [
            "Epoch 1/10\n",
            "1875/1875 [==============================] - 11s 5ms/step - loss: 0.2229 - accuracy: 0.9346\n",
            "Epoch 2/10\n",
            "1875/1875 [==============================] - 10s 5ms/step - loss: 0.0916 - accuracy: 0.9720\n",
            "Epoch 3/10\n",
            "1875/1875 [==============================] - 11s 6ms/step - loss: 0.0587 - accuracy: 0.9816\n",
            "Epoch 4/10\n",
            "1875/1875 [==============================] - 9s 5ms/step - loss: 0.0426 - accuracy: 0.9867\n",
            "Epoch 5/10\n",
            "1875/1875 [==============================] - 10s 5ms/step - loss: 0.0312 - accuracy: 0.9899\n",
            "Epoch 6/10\n",
            "1875/1875 [==============================] - 11s 6ms/step - loss: 0.0246 - accuracy: 0.9927\n",
            "Epoch 7/10\n",
            "1875/1875 [==============================] - 10s 5ms/step - loss: 0.0183 - accuracy: 0.9944\n",
            "Epoch 8/10\n",
            "1875/1875 [==============================] - 10s 5ms/step - loss: 0.0161 - accuracy: 0.9947\n",
            "Epoch 9/10\n",
            "1875/1875 [==============================] - 9s 5ms/step - loss: 0.0130 - accuracy: 0.9956\n",
            "Epoch 10/10\n",
            "1875/1875 [==============================] - 10s 6ms/step - loss: 0.0105 - accuracy: 0.9966\n"
          ]
        },
        {
          "output_type": "execute_result",
          "data": {
            "text/plain": [
              "<keras.src.callbacks.History at 0x78b51d963c40>"
            ]
          },
          "metadata": {},
          "execution_count": 49
        }
      ]
    },
    {
      "cell_type": "markdown",
      "source": [
        "## Evaluating Neural Network Model 1 on Test Data\n",
        "\n",
        "This step involves evaluating the performance of the first neural network model (`model1`) on the test dataset. The model has been trained on the MNIST dataset to classify handwritten digits.\n"
      ],
      "metadata": {
        "id": "pMs2-iaMuSGU"
      }
    },
    {
      "cell_type": "code",
      "source": [
        "model1.evaluate(X_test_flattened, y_test)"
      ],
      "metadata": {
        "colab": {
          "base_uri": "https://localhost:8080/"
        },
        "id": "F2eCegBsflwI",
        "outputId": "65ed9bd2-55dd-49da-c5cc-762ab77df396"
      },
      "execution_count": 50,
      "outputs": [
        {
          "output_type": "stream",
          "name": "stdout",
          "text": [
            "313/313 [==============================] - 1s 3ms/step - loss: 0.0816 - accuracy: 0.9809\n"
          ]
        },
        {
          "output_type": "execute_result",
          "data": {
            "text/plain": [
              "[0.0815558061003685, 0.98089998960495]"
            ]
          },
          "metadata": {},
          "execution_count": 50
        }
      ]
    },
    {
      "cell_type": "markdown",
      "source": [
        "## Making Predictions with Neural Network Model 1\n",
        "\n",
        "In this step, predictions are made using the trained first neural network model (`model1`) on the test dataset (`X_test_flattened`). The model has been trained to classify handwritten digits from the MNIST dataset.\n"
      ],
      "metadata": {
        "id": "Bxtn8YOxuYq8"
      }
    },
    {
      "cell_type": "code",
      "source": [
        "y_predicted1 = model1.predict(X_test_flattened)\n",
        "print(\"Predicted Probabilities:\", y_predicted1[22])\n",
        "print(\"Predicted Label:\", np.argmax(y_predicted1[22]))\n",
        "\n",
        "plt.matshow(X_test[22])"
      ],
      "metadata": {
        "colab": {
          "base_uri": "https://localhost:8080/",
          "height": 524
        },
        "id": "fDLBY0Iwflqb",
        "outputId": "87c048ba-e71e-48ba-f467-0477c3f3ca00"
      },
      "execution_count": 58,
      "outputs": [
        {
          "output_type": "stream",
          "name": "stdout",
          "text": [
            "313/313 [==============================] - 1s 3ms/step\n",
            "Predicted Probabilities: [9.0060503e-08 1.3511712e-15 1.8514396e-10 3.7330221e-12 1.5592692e-08\n",
            " 1.9098463e-10 9.9999982e-01 5.1242348e-12 2.4338503e-08 4.1701094e-11]\n",
            "Predicted Label: 6\n"
          ]
        },
        {
          "output_type": "execute_result",
          "data": {
            "text/plain": [
              "<matplotlib.image.AxesImage at 0x78b53d1475e0>"
            ]
          },
          "metadata": {},
          "execution_count": 58
        },
        {
          "output_type": "display_data",
          "data": {
            "text/plain": [
              "<Figure size 480x480 with 1 Axes>"
            ],
            "image/png": "[encoded data removed]"
          },
          "metadata": {}
        }
      ]
    },
    {
      "cell_type": "markdown",
      "source": [
        "## Generating Predicted Labels with Neural Network Model 1\n",
        "\n",
        "This step generates predicted labels for the test data using the trained first neural network model (`model1`). The `predict()` function provides predicted probabilities for each class label for each sample in the test dataset (`X_test_flattened`), and the `argmax()` function is used to extract the index of the highest probability as the predicted label.\n"
      ],
      "metadata": {
        "id": "iIke_4d4ubsy"
      }
    },
    {
      "cell_type": "code",
      "source": [
        "y_predicted1_labels= [np.argmax(i) for i in y_predicted1]"
      ],
      "metadata": {
        "id": "26zJb1NKflns"
      },
      "execution_count": 59,
      "outputs": []
    },
    {
      "cell_type": "markdown",
      "source": [
        "## Visualizing Confusion Matrix for Neural Network Model 1\n",
        "\n",
        "This step visualizes the confusion matrix to evaluate the performance of the first neural network model (`model1`) on the test data. The confusion matrix provides insights into the model's ability to correctly classify each class label.\n"
      ],
      "metadata": {
        "id": "mTZuXWI2uoQV"
      }
    },
    {
      "cell_type": "code",
      "source": [
        "cm1 = tf.math.confusion_matrix(labels=y_test,predictions=y_predicted1_labels)\n",
        "plt.figure(figsize = (10,7))\n",
        "sn.heatmap(cm1, annot=True, fmt='d')\n",
        "plt.xlabel('Predicted')\n",
        "plt.ylabel('Truth')"
      ],
      "metadata": {
        "colab": {
          "base_uri": "https://localhost:8080/",
          "height": 636
        },
        "id": "HrdPehIsflkp",
        "outputId": "99dba0c5-94a6-4e0f-898c-49aaeb40e2bd"
      },
      "execution_count": 60,
      "outputs": [
        {
          "output_type": "execute_result",
          "data": {
            "text/plain": [
              "Text(95.72222222222221, 0.5, 'Truth')"
            ]
          },
          "metadata": {},
          "execution_count": 60
        },
        {
          "output_type": "display_data",
          "data": {
            "text/plain": [
              "<Figure size 1000x700 with 2 Axes>"
            ],
            "image/png": "[encoded data removed]"
          },
          "metadata": {}
        }
      ]
    },
    {
      "cell_type": "markdown",
      "source": [
        "---------------------------\n"
      ],
      "metadata": {
        "id": "VVyEn3VcfjoX"
      }
    },
    {
      "cell_type": "markdown",
      "source": [
        "# Second Neural Network Model"
      ],
      "metadata": {
        "id": "RoIoskx3u4kX"
      }
    },
    {
      "cell_type": "markdown",
      "source": [
        "## Training Neural Network Model 2\n",
        "\n",
        "This step involves training the second neural network model (`model2`) on the MNIST dataset. The model architecture consists of an input layer with 784 input features, two hidden layers with 256 and 128 neurons activated by ReLU, respectively, and an output layer with 10 neurons activated by softmax for multi-class classification.\n",
        "\n"
      ],
      "metadata": {
        "id": "VekkQizxdcSs"
      }
    },
    {
      "cell_type": "code",
      "source": [
        "model2 = keras.Sequential([\n",
        "    keras.layers.Dense(256, input_shape=(784,), activation='relu'),\n",
        "    keras.layers.Dropout(0.5),\n",
        "    keras.layers.Dense(128, activation='relu'),\n",
        "    keras.layers.Dense(128, activation='relu'),\n",
        "    keras.layers.BatchNormalization(),\n",
        "    keras.layers.Dense(10, activation='softmax')\n",
        "])\n",
        "\n",
        "model2.compile(optimizer='adam',\n",
        "              loss='sparse_categorical_crossentropy',\n",
        "              metrics=['accuracy'])\n",
        "\n",
        "model2.fit(X_train_flattened, y_train, epochs=20, validation_split=0.2)"
      ],
      "metadata": {
        "colab": {
          "base_uri": "https://localhost:8080/"
        },
        "id": "zCSon_eSLICD",
        "outputId": "7a691f99-d21e-4813-d45d-f1809052b675"
      },
      "execution_count": 61,
      "outputs": [
        {
          "output_type": "stream",
          "name": "stdout",
          "text": [
            "Epoch 1/20\n",
            "1500/1500 [==============================] - 14s 8ms/step - loss: 0.4063 - accuracy: 0.8734 - val_loss: 0.1431 - val_accuracy: 0.9550\n",
            "Epoch 2/20\n",
            "1500/1500 [==============================] - 12s 8ms/step - loss: 0.2171 - accuracy: 0.9352 - val_loss: 0.1182 - val_accuracy: 0.9656\n",
            "Epoch 3/20\n",
            "1500/1500 [==============================] - 12s 8ms/step - loss: 0.1766 - accuracy: 0.9463 - val_loss: 0.1045 - val_accuracy: 0.9689\n",
            "Epoch 4/20\n",
            "1500/1500 [==============================] - 12s 8ms/step - loss: 0.1554 - accuracy: 0.9523 - val_loss: 0.1009 - val_accuracy: 0.9697\n",
            "Epoch 5/20\n",
            "1500/1500 [==============================] - 10s 7ms/step - loss: 0.1359 - accuracy: 0.9592 - val_loss: 0.0821 - val_accuracy: 0.9747\n",
            "Epoch 6/20\n",
            "1500/1500 [==============================] - 11s 7ms/step - loss: 0.1239 - accuracy: 0.9625 - val_loss: 0.0799 - val_accuracy: 0.9778\n",
            "Epoch 7/20\n",
            "1500/1500 [==============================] - 12s 8ms/step - loss: 0.1143 - accuracy: 0.9649 - val_loss: 0.0885 - val_accuracy: 0.9743\n",
            "Epoch 8/20\n",
            "1500/1500 [==============================] - 11s 7ms/step - loss: 0.1066 - accuracy: 0.9680 - val_loss: 0.0833 - val_accuracy: 0.9760\n",
            "Epoch 9/20\n",
            "1500/1500 [==============================] - 12s 8ms/step - loss: 0.0980 - accuracy: 0.9697 - val_loss: 0.0777 - val_accuracy: 0.9774\n",
            "Epoch 10/20\n",
            "1500/1500 [==============================] - 12s 8ms/step - loss: 0.0930 - accuracy: 0.9712 - val_loss: 0.0712 - val_accuracy: 0.9793\n",
            "Epoch 11/20\n",
            "1500/1500 [==============================] - 11s 7ms/step - loss: 0.0877 - accuracy: 0.9726 - val_loss: 0.0774 - val_accuracy: 0.9786\n",
            "Epoch 12/20\n",
            "1500/1500 [==============================] - 12s 8ms/step - loss: 0.0817 - accuracy: 0.9739 - val_loss: 0.0736 - val_accuracy: 0.9789\n",
            "Epoch 13/20\n",
            "1500/1500 [==============================] - 12s 8ms/step - loss: 0.0812 - accuracy: 0.9748 - val_loss: 0.0719 - val_accuracy: 0.9779\n",
            "Epoch 14/20\n",
            "1500/1500 [==============================] - 12s 8ms/step - loss: 0.0782 - accuracy: 0.9757 - val_loss: 0.0682 - val_accuracy: 0.9801\n",
            "Epoch 15/20\n",
            "1500/1500 [==============================] - 11s 7ms/step - loss: 0.0725 - accuracy: 0.9776 - val_loss: 0.0719 - val_accuracy: 0.9804\n",
            "Epoch 16/20\n",
            "1500/1500 [==============================] - 11s 7ms/step - loss: 0.0707 - accuracy: 0.9775 - val_loss: 0.0675 - val_accuracy: 0.9810\n",
            "Epoch 17/20\n",
            "1500/1500 [==============================] - 12s 8ms/step - loss: 0.0676 - accuracy: 0.9790 - val_loss: 0.0662 - val_accuracy: 0.9820\n",
            "Epoch 18/20\n",
            "1500/1500 [==============================] - 11s 8ms/step - loss: 0.0639 - accuracy: 0.9804 - val_loss: 0.0697 - val_accuracy: 0.9813\n",
            "Epoch 19/20\n",
            "1500/1500 [==============================] - 12s 8ms/step - loss: 0.0617 - accuracy: 0.9802 - val_loss: 0.0670 - val_accuracy: 0.9818\n",
            "Epoch 20/20\n",
            "1500/1500 [==============================] - 11s 7ms/step - loss: 0.0620 - accuracy: 0.9802 - val_loss: 0.0667 - val_accuracy: 0.9820\n"
          ]
        },
        {
          "output_type": "execute_result",
          "data": {
            "text/plain": [
              "<keras.src.callbacks.History at 0x78b53e151ff0>"
            ]
          },
          "metadata": {},
          "execution_count": 61
        }
      ]
    },
    {
      "cell_type": "markdown",
      "source": [
        "## Evaluating Neural Network Model 2 on Test Data\n",
        "\n",
        "This step involves evaluating the performance of the second neural network model (`model2`) on the test dataset. The model has been trained on the MNIST dataset to classify handwritten digits.\n"
      ],
      "metadata": {
        "id": "P2fcyya3djs3"
      }
    },
    {
      "cell_type": "code",
      "source": [
        "model2.evaluate(X_test_flattened, y_test)"
      ],
      "metadata": {
        "colab": {
          "base_uri": "https://localhost:8080/"
        },
        "id": "tF9IdmdDLLsl",
        "outputId": "70de7f9f-0cc3-4cf8-c824-978fac56eceb"
      },
      "execution_count": 62,
      "outputs": [
        {
          "output_type": "stream",
          "name": "stdout",
          "text": [
            "313/313 [==============================] - 1s 3ms/step - loss: 0.0633 - accuracy: 0.9819\n"
          ]
        },
        {
          "output_type": "execute_result",
          "data": {
            "text/plain": [
              "[0.06327524781227112, 0.9818999767303467]"
            ]
          },
          "metadata": {},
          "execution_count": 62
        }
      ]
    },
    {
      "cell_type": "markdown",
      "source": [
        "## Making Predictions with Neural Network Model 2\n",
        "\n",
        "In this step, predictions are made using the trained second neural network model (`model2`) on the test dataset (`X_test_flattened`). The model has been trained to classify handwritten digits from the MNIST dataset.\n",
        "\n"
      ],
      "metadata": {
        "id": "M5N69E-HdoKx"
      }
    },
    {
      "cell_type": "code",
      "source": [
        "y_predicted2 = model2.predict(X_test_flattened)\n",
        "print(\"Predicted Probabilities:\", y_predicted2[292])\n",
        "print(\"Predicted Label:\", np.argmax(y_predicted2[292]))\n",
        "\n",
        "plt.matshow(X_test[292])"
      ],
      "metadata": {
        "colab": {
          "base_uri": "https://localhost:8080/",
          "height": 524
        },
        "id": "EIMMcNEeLN7L",
        "outputId": "64c81cc1-15e4-4845-ad6f-e308400cb4c2"
      },
      "execution_count": 63,
      "outputs": [
        {
          "output_type": "stream",
          "name": "stdout",
          "text": [
            "313/313 [==============================] - 1s 3ms/step\n",
            "Predicted Probabilities: [5.7658585e-06 2.6311691e-06 4.9305777e-06 2.5306879e-05 9.6484808e-05\n",
            " 2.0623123e-05 2.1221101e-06 2.6791930e-04 2.8780260e-05 9.9954540e-01]\n",
            "Predicted Label: 9\n"
          ]
        },
        {
          "output_type": "execute_result",
          "data": {
            "text/plain": [
              "<matplotlib.image.AxesImage at 0x78b53df38820>"
            ]
          },
          "metadata": {},
          "execution_count": 63
        },
        {
          "output_type": "display_data",
          "data": {
            "text/plain": [
              "<Figure size 480x480 with 1 Axes>"
            ],
            "image/png": "[encoded data removed]"
          },
          "metadata": {}
        }
      ]
    },
    {
      "cell_type": "markdown",
      "source": [
        "## Generating Predicted Labels with Neural Network Model 2\n",
        "\n",
        "This step generates predicted labels for the test data using the trained second neural network model (`model2`). The `predict()` function provides predicted probabilities for each class label for each sample in the test dataset (`X_test_flattened`), and the `argmax()` function is used to extract the index of the highest probability as the predicted label.\n",
        "\n"
      ],
      "metadata": {
        "id": "9MD0slQidsRV"
      }
    },
    {
      "cell_type": "code",
      "source": [
        "y_predicted2_labels= [np.argmax(i) for i in y_predicted2]"
      ],
      "metadata": {
        "id": "jJZlmG1FLPms"
      },
      "execution_count": 64,
      "outputs": []
    },
    {
      "cell_type": "markdown",
      "source": [
        "## Visualizing Confusion Matrix for Neural Network Model 2\n",
        "\n",
        "This step visualizes the confusion matrix to evaluate the performance of the second neural network model (`model2`) on the test data. The confusion matrix provides insights into the model's ability to correctly classify each class label.\n",
        "\n"
      ],
      "metadata": {
        "id": "520cNu_OeDvc"
      }
    },
    {
      "cell_type": "code",
      "source": [
        "cm2 = tf.math.confusion_matrix(labels=y_test,predictions=y_predicted2_labels)\n",
        "plt.figure(figsize = (10,7))\n",
        "sn.heatmap(cm2, annot=True, fmt='d')\n",
        "plt.xlabel('Predicted')\n",
        "plt.ylabel('Truth')"
      ],
      "metadata": {
        "colab": {
          "base_uri": "https://localhost:8080/",
          "height": 636
        },
        "id": "1zjx7G8uLRlk",
        "outputId": "cea0718a-c52a-40f0-cad4-50c63ccbbfe3"
      },
      "execution_count": 65,
      "outputs": [
        {
          "output_type": "execute_result",
          "data": {
            "text/plain": [
              "Text(95.72222222222221, 0.5, 'Truth')"
            ]
          },
          "metadata": {},
          "execution_count": 65
        },
        {
          "output_type": "display_data",
          "data": {
            "text/plain": [
              "<Figure size 1000x700 with 2 Axes>"
            ],
            "image/png": "[encoded data removed]"
          },
          "metadata": {}
        }
      ]
    },
    {
      "cell_type": "markdown",
      "source": [
        "----------------------------"
      ],
      "metadata": {
        "id": "ANx4s0eLfJXi"
      }
    },
    {
      "cell_type": "markdown",
      "source": [
        "# Third Neural Network Model"
      ],
      "metadata": {
        "id": "j4--4QrdfO3Q"
      }
    },
    {
      "cell_type": "markdown",
      "source": [
        "## Training Neural Network Model 3 with Adjusted Parameters\n",
        "\n",
        "This step involves training the third neural network model (`model3`) on the MNIST dataset with adjusted parameters. The model architecture consists of an input layer with 784 input features, two hidden layers with 256 and 128 neurons activated by ReLU, respectively, and an output layer with 10 neurons activated by softmax for multi-class classification.\n"
      ],
      "metadata": {
        "id": "aMhPXgu1vqkR"
      }
    },
    {
      "cell_type": "code",
      "source": [
        "# Define the model3 architecture\n",
        "model3 = Sequential([\n",
        "    Dense(256, input_shape=(784,), activation='relu'),\n",
        "    Dropout(0.5),\n",
        "    Dense(128, activation='relu'),\n",
        "    Dense(128, activation='relu'),\n",
        "    BatchNormalization(),\n",
        "    Dense(10, activation='softmax')\n",
        "])\n",
        "\n",
        "# Compile the model3\n",
        "optimizer = Adam(lr=0.001)  # Adjust learning rate\n",
        "model3.compile(optimizer=optimizer,\n",
        "              loss='sparse_categorical_crossentropy',\n",
        "              metrics=['accuracy'])\n",
        "\n",
        "# Define callbacks for early stopping and learning rate reduction\n",
        "callbacks = [\n",
        "    EarlyStopping(patience=5, restore_best_weights=True),  # Early stopping to prevent overfitting\n",
        "    ReduceLROnPlateau(factor=0.1, patience=3, min_lr=0.00001, verbose=1)  # Reduce learning rate on plateau\n",
        "]\n",
        "\n",
        "# Train the model with adjusted parameters\n",
        "history = model3.fit(X_train_flattened, y_train,\n",
        "                    epochs=50,\n",
        "                    validation_split=0.2,\n",
        "                    batch_size=128,\n",
        "                    callbacks=callbacks,\n",
        "                    verbose=1)"
      ],
      "metadata": {
        "colab": {
          "base_uri": "https://localhost:8080/"
        },
        "id": "F7dmJwL1e2DB",
        "outputId": "deaa4b21-cdcc-4715-8bb9-f9f9439f0fb5"
      },
      "execution_count": 66,
      "outputs": [
        {
          "output_type": "stream",
          "name": "stderr",
          "text": [
            "WARNING:absl:`lr` is deprecated in Keras optimizer, please use `learning_rate` or use the legacy optimizer, e.g.,tf.keras.optimizers.legacy.Adam.\n"
          ]
        },
        {
          "output_type": "stream",
          "name": "stdout",
          "text": [
            "Epoch 1/50\n",
            "375/375 [==============================] - 6s 12ms/step - loss: 0.4460 - accuracy: 0.8632 - val_loss: 0.1539 - val_accuracy: 0.9558 - lr: 0.0010\n",
            "Epoch 2/50\n",
            "375/375 [==============================] - 4s 11ms/step - loss: 0.2103 - accuracy: 0.9360 - val_loss: 0.1189 - val_accuracy: 0.9635 - lr: 0.0010\n",
            "Epoch 3/50\n",
            "375/375 [==============================] - 4s 12ms/step - loss: 0.1635 - accuracy: 0.9500 - val_loss: 0.1049 - val_accuracy: 0.9682 - lr: 0.0010\n",
            "Epoch 4/50\n",
            "375/375 [==============================] - 5s 12ms/step - loss: 0.1410 - accuracy: 0.9561 - val_loss: 0.1038 - val_accuracy: 0.9692 - lr: 0.0010\n",
            "Epoch 5/50\n",
            "375/375 [==============================] - 4s 10ms/step - loss: 0.1265 - accuracy: 0.9605 - val_loss: 0.0897 - val_accuracy: 0.9724 - lr: 0.0010\n",
            "Epoch 6/50\n",
            "375/375 [==============================] - 4s 11ms/step - loss: 0.1152 - accuracy: 0.9640 - val_loss: 0.0841 - val_accuracy: 0.9745 - lr: 0.0010\n",
            "Epoch 7/50\n",
            "375/375 [==============================] - 4s 12ms/step - loss: 0.1018 - accuracy: 0.9684 - val_loss: 0.0861 - val_accuracy: 0.9752 - lr: 0.0010\n",
            "Epoch 8/50\n",
            "375/375 [==============================] - 4s 11ms/step - loss: 0.0987 - accuracy: 0.9680 - val_loss: 0.0814 - val_accuracy: 0.9761 - lr: 0.0010\n",
            "Epoch 9/50\n",
            "375/375 [==============================] - 4s 11ms/step - loss: 0.0914 - accuracy: 0.9709 - val_loss: 0.0819 - val_accuracy: 0.9768 - lr: 0.0010\n",
            "Epoch 10/50\n",
            "375/375 [==============================] - 5s 12ms/step - loss: 0.0834 - accuracy: 0.9732 - val_loss: 0.0777 - val_accuracy: 0.9785 - lr: 0.0010\n",
            "Epoch 11/50\n",
            "375/375 [==============================] - 5s 13ms/step - loss: 0.0792 - accuracy: 0.9745 - val_loss: 0.0792 - val_accuracy: 0.9765 - lr: 0.0010\n",
            "Epoch 12/50\n",
            "375/375 [==============================] - 4s 12ms/step - loss: 0.0781 - accuracy: 0.9743 - val_loss: 0.0756 - val_accuracy: 0.9787 - lr: 0.0010\n",
            "Epoch 13/50\n",
            "375/375 [==============================] - 4s 11ms/step - loss: 0.0734 - accuracy: 0.9767 - val_loss: 0.0759 - val_accuracy: 0.9796 - lr: 0.0010\n",
            "Epoch 14/50\n",
            "375/375 [==============================] - 4s 10ms/step - loss: 0.0718 - accuracy: 0.9774 - val_loss: 0.0735 - val_accuracy: 0.9784 - lr: 0.0010\n",
            "Epoch 15/50\n",
            "375/375 [==============================] - 6s 16ms/step - loss: 0.0697 - accuracy: 0.9774 - val_loss: 0.0682 - val_accuracy: 0.9802 - lr: 0.0010\n",
            "Epoch 16/50\n",
            "375/375 [==============================] - 4s 12ms/step - loss: 0.0632 - accuracy: 0.9789 - val_loss: 0.0709 - val_accuracy: 0.9793 - lr: 0.0010\n",
            "Epoch 17/50\n",
            "375/375 [==============================] - 4s 11ms/step - loss: 0.0612 - accuracy: 0.9803 - val_loss: 0.0722 - val_accuracy: 0.9802 - lr: 0.0010\n",
            "Epoch 18/50\n",
            "372/375 [============================>.] - ETA: 0s - loss: 0.0621 - accuracy: 0.9800\n",
            "Epoch 18: ReduceLROnPlateau reducing learning rate to 0.00010000000474974513.\n",
            "375/375 [==============================] - 5s 13ms/step - loss: 0.0622 - accuracy: 0.9799 - val_loss: 0.0726 - val_accuracy: 0.9801 - lr: 0.0010\n",
            "Epoch 19/50\n",
            "375/375 [==============================] - 4s 11ms/step - loss: 0.0451 - accuracy: 0.9858 - val_loss: 0.0628 - val_accuracy: 0.9820 - lr: 1.0000e-04\n",
            "Epoch 20/50\n",
            "375/375 [==============================] - 4s 10ms/step - loss: 0.0396 - accuracy: 0.9870 - val_loss: 0.0624 - val_accuracy: 0.9823 - lr: 1.0000e-04\n",
            "Epoch 21/50\n",
            "375/375 [==============================] - 4s 12ms/step - loss: 0.0361 - accuracy: 0.9883 - val_loss: 0.0630 - val_accuracy: 0.9824 - lr: 1.0000e-04\n",
            "Epoch 22/50\n",
            "375/375 [==============================] - 4s 12ms/step - loss: 0.0362 - accuracy: 0.9879 - val_loss: 0.0629 - val_accuracy: 0.9826 - lr: 1.0000e-04\n",
            "Epoch 23/50\n",
            "375/375 [==============================] - 4s 11ms/step - loss: 0.0327 - accuracy: 0.9895 - val_loss: 0.0620 - val_accuracy: 0.9831 - lr: 1.0000e-04\n",
            "Epoch 24/50\n",
            "375/375 [==============================] - 5s 12ms/step - loss: 0.0303 - accuracy: 0.9902 - val_loss: 0.0629 - val_accuracy: 0.9826 - lr: 1.0000e-04\n",
            "Epoch 25/50\n",
            "375/375 [==============================] - 7s 18ms/step - loss: 0.0310 - accuracy: 0.9900 - val_loss: 0.0624 - val_accuracy: 0.9824 - lr: 1.0000e-04\n",
            "Epoch 26/50\n",
            "375/375 [==============================] - 9s 23ms/step - loss: 0.0288 - accuracy: 0.9907 - val_loss: 0.0619 - val_accuracy: 0.9823 - lr: 1.0000e-04\n",
            "Epoch 27/50\n",
            "375/375 [==============================] - 7s 17ms/step - loss: 0.0287 - accuracy: 0.9911 - val_loss: 0.0634 - val_accuracy: 0.9826 - lr: 1.0000e-04\n",
            "Epoch 28/50\n",
            "375/375 [==============================] - 4s 11ms/step - loss: 0.0285 - accuracy: 0.9905 - val_loss: 0.0621 - val_accuracy: 0.9831 - lr: 1.0000e-04\n",
            "Epoch 29/50\n",
            "370/375 [============================>.] - ETA: 0s - loss: 0.0272 - accuracy: 0.9913\n",
            "Epoch 29: ReduceLROnPlateau reducing learning rate to 1.0000000474974514e-05.\n",
            "375/375 [==============================] - 4s 12ms/step - loss: 0.0271 - accuracy: 0.9913 - val_loss: 0.0629 - val_accuracy: 0.9824 - lr: 1.0000e-04\n",
            "Epoch 30/50\n",
            "375/375 [==============================] - 7s 18ms/step - loss: 0.0262 - accuracy: 0.9914 - val_loss: 0.0628 - val_accuracy: 0.9823 - lr: 1.0000e-05\n",
            "Epoch 31/50\n",
            "375/375 [==============================] - 8s 21ms/step - loss: 0.0241 - accuracy: 0.9921 - val_loss: 0.0627 - val_accuracy: 0.9825 - lr: 1.0000e-05\n"
          ]
        }
      ]
    },
    {
      "cell_type": "markdown",
      "source": [
        "## Evaluating Neural Network Model 3 on Test Data\n",
        "\n",
        "This step involves evaluating the performance of the third neural network model (`model3`) on the test dataset. The model has been trained on the MNIST dataset with adjusted parameters to classify handwritten digits.\n"
      ],
      "metadata": {
        "id": "uX3Mneexwbsv"
      }
    },
    {
      "cell_type": "markdown",
      "source": [
        "## Evaluating Neural Network Model 3 on Test Data\n",
        "\n",
        "This step involves evaluating the performance of the third neural network model (`model3`) on the test dataset. The model has been trained on the MNIST dataset with adjusted parameters to classify handwritten digits.\n"
      ],
      "metadata": {
        "id": "V6p6fKjpweyr"
      }
    },
    {
      "cell_type": "code",
      "source": [
        "model3.evaluate(X_test_flattened, y_test)"
      ],
      "metadata": {
        "colab": {
          "base_uri": "https://localhost:8080/"
        },
        "id": "pW1otGJRe2AK",
        "outputId": "7333b017-9c50-4b01-f426-240f3b185a3b"
      },
      "execution_count": 67,
      "outputs": [
        {
          "output_type": "stream",
          "name": "stdout",
          "text": [
            "313/313 [==============================] - 1s 3ms/step - loss: 0.0548 - accuracy: 0.9851\n"
          ]
        },
        {
          "output_type": "execute_result",
          "data": {
            "text/plain": [
              "[0.054818250238895416, 0.9850999712944031]"
            ]
          },
          "metadata": {},
          "execution_count": 67
        }
      ]
    },
    {
      "cell_type": "markdown",
      "source": [
        "## Making Predictions with Neural Network Model 3\n",
        "\n",
        "In this step, predictions are made using the trained third neural network model (`model3`) on the test dataset (`X_test_flattened`). The model has been trained to classify handwritten digits from the MNIST dataset.\n"
      ],
      "metadata": {
        "id": "4EN3gzWWwmYg"
      }
    },
    {
      "cell_type": "code",
      "source": [
        "y_predicted3 = model3.predict(X_test_flattened)\n",
        "print(\"Predicted Probabilities:\", y_predicted3[692])\n",
        "print(\"Predicted Label:\", np.argmax(y_predicted3[692]))\n",
        "\n",
        "plt.matshow(X_test[692])"
      ],
      "metadata": {
        "colab": {
          "base_uri": "https://localhost:8080/",
          "height": 524
        },
        "id": "rzfBXLele19y",
        "outputId": "3444d091-9883-4709-cbad-d3288bb4bb29"
      },
      "execution_count": 68,
      "outputs": [
        {
          "output_type": "stream",
          "name": "stdout",
          "text": [
            "313/313 [==============================] - 1s 3ms/step\n",
            "Predicted Probabilities: [2.9617138e-07 2.2075385e-07 5.7852734e-08 2.3026149e-04 2.9345696e-08\n",
            " 9.9958056e-01 7.5082971e-07 1.3796690e-05 5.7155294e-06 1.6825274e-04]\n",
            "Predicted Label: 5\n"
          ]
        },
        {
          "output_type": "execute_result",
          "data": {
            "text/plain": [
              "<matplotlib.image.AxesImage at 0x78b538fefd90>"
            ]
          },
          "metadata": {},
          "execution_count": 68
        },
        {
          "output_type": "display_data",
          "data": {
            "text/plain": [
              "<Figure size 480x480 with 1 Axes>"
            ],
            "image/png": "[encoded data removed]"
          },
          "metadata": {}
        }
      ]
    },
    {
      "cell_type": "markdown",
      "source": [
        "# Generating Predicted Labels with Neural Network Model 3\n",
        "\n",
        "This step generates predicted labels for the test data using the trained third neural network model (`model3`). The `predict()` function provides predicted probabilities for each class label for each sample in the test dataset (`X_test_flattened`), and the `argmax()` function is used to extract the index of the highest probability as the predicted label.\n"
      ],
      "metadata": {
        "id": "Vw5t2Ds1wtIR"
      }
    },
    {
      "cell_type": "code",
      "source": [
        "y_predicted3_labels= [np.argmax(i) for i in y_predicted3]"
      ],
      "metadata": {
        "id": "AOSkXll8e169"
      },
      "execution_count": 69,
      "outputs": []
    },
    {
      "cell_type": "markdown",
      "source": [
        "## Visualizing Confusion Matrix for Neural Network Model 3\n",
        "\n",
        "This step visualizes the confusion matrix to evaluate the performance of the third neural network model (`model3`) on the test data. The confusion matrix provides insights into the model's ability to correctly classify each class label.\n"
      ],
      "metadata": {
        "id": "TmPnmooWw1hT"
      }
    },
    {
      "cell_type": "code",
      "source": [
        "cm3 = tf.math.confusion_matrix(labels=y_test,predictions=y_predicted3_labels)\n",
        "plt.figure(figsize = (10,7))\n",
        "sn.heatmap(cm3, annot=True, fmt='d')\n",
        "plt.xlabel('Predicted')\n",
        "plt.ylabel('Truth')"
      ],
      "metadata": {
        "colab": {
          "base_uri": "https://localhost:8080/",
          "height": 636
        },
        "id": "gBARjMILe14A",
        "outputId": "6329e1d2-394c-47e2-f3ab-b7e2799ec67e"
      },
      "execution_count": 70,
      "outputs": [
        {
          "output_type": "execute_result",
          "data": {
            "text/plain": [
              "Text(95.72222222222221, 0.5, 'Truth')"
            ]
          },
          "metadata": {},
          "execution_count": 70
        },
        {
          "output_type": "display_data",
          "data": {
            "text/plain": [
              "<Figure size 1000x700 with 2 Axes>"
            ],
            "image/png": "[encoded data removed]"
          },
          "metadata": {}
        }
      ]
    },
    {
      "cell_type": "markdown",
      "source": [
        "--------------------"
      ],
      "metadata": {
        "id": "bvQXtZTtw49B"
      }
    },
    {
      "cell_type": "markdown",
      "source": [
        "--------------------"
      ],
      "metadata": {
        "id": "nzO1G_9Uw5nK"
      }
    },
    {
      "cell_type": "markdown",
      "source": [
        "## Evaluating All Models on Test Data\n",
        "\n",
        "This step involves evaluating the performance of all three neural network models (`model1`, `model2`, and `model3`) on the test dataset. Each model has been trained on the MNIST dataset to classify handwritten digits.\n"
      ],
      "metadata": {
        "id": "7L3YH5EPw950"
      }
    },
    {
      "cell_type": "code",
      "source": [
        "\n",
        "# Evaluate all models on the test data\n",
        "loss1, accuracy1 = model1.evaluate(X_test_flattened, y_test)\n",
        "loss2, accuracy2 = model2.evaluate(X_test_flattened, y_test)\n",
        "loss3, accuracy3 = model3.evaluate(X_test_flattened, y_test)\n",
        "\n",
        "print(\"Model 1 - Test Accuracy:\", accuracy1)\n",
        "print(\"Model 2 - Test Accuracy:\", accuracy2)\n",
        "print(\"Model 3 - Test Accuracy:\", accuracy3)\n"
      ],
      "metadata": {
        "colab": {
          "base_uri": "https://localhost:8080/"
        },
        "id": "BE-25WMNe11g",
        "outputId": "26dc3589-be6d-4158-b193-a0b98300314a"
      },
      "execution_count": 71,
      "outputs": [
        {
          "output_type": "stream",
          "name": "stdout",
          "text": [
            "313/313 [==============================] - 2s 5ms/step - loss: 0.0816 - accuracy: 0.9809\n",
            "313/313 [==============================] - 1s 3ms/step - loss: 0.0633 - accuracy: 0.9819\n",
            "313/313 [==============================] - 1s 3ms/step - loss: 0.0548 - accuracy: 0.9851\n",
            "Model 1 - Test Accuracy: 0.98089998960495\n",
            "Model 2 - Test Accuracy: 0.9818999767303467\n",
            "Model 3 - Test Accuracy: 0.9850999712944031\n"
          ]
        }
      ]
    },
    {
      "cell_type": "markdown",
      "source": [
        "# Comparison of Neural Network Model Performance\n",
        "\n",
        "The test accuracies of three different neural network models trained on the MNIST dataset are as follows:\n",
        "\n",
        "- Model 1: Test Accuracy = 98.09%\n",
        "- Model 2: Test Accuracy = 98.19%\n",
        "- Model 3: Test Accuracy = 98.51%\n",
        "\n",
        "These results indicate that all three models achieve high accuracy on classifying handwritten digits. Model 3 demonstrates slightly superior performance compared to Model 1 and Model 2, with the highest test accuracy of 98.51%. However, the differences in accuracy between the models are relatively small.\n",
        "\n",
        "Overall, these accuracies suggest that the neural network models effectively learn and generalize from the training data, demonstrating strong predictive capability in classifying unseen digits from the test dataset.\n"
      ],
      "metadata": {
        "id": "4fKIvF2ut1VU"
      }
    },
    {
      "cell_type": "markdown",
      "source": [
        "---------------------------\n"
      ],
      "metadata": {
        "id": "eXGFqtAPewi4"
      }
    },
    {
      "cell_type": "markdown",
      "source": [
        "### Cloning GitHub Repository\n",
        "\n",
        "You can clone this GitHub repository for the MNIST Handwritten Digit Recognition project into your Google Colab environment. Cloning a repository allows you to access its contents, including code, datasets, and documentation, directly within your Colab notebook.\n",
        "\n",
        "```python\n",
        "!git clone https://github.com/ArenaHernandez/MNIST-Handwritten-Digit-Recognition.git```"
      ],
      "metadata": {
        "id": "O14qFK8Ueybm"
      }
    }
  ]
}